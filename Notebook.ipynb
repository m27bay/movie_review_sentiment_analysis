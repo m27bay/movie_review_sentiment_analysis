{
 "cells": [
  {
   "attachments": {},
   "cell_type": "markdown",
   "metadata": {},
   "source": [
    "# ? Sujet ?"
   ]
  },
  {
   "attachments": {},
   "cell_type": "markdown",
   "metadata": {},
   "source": [
    "# Importations."
   ]
  },
  {
   "cell_type": "code",
   "execution_count": 12,
   "metadata": {},
   "outputs": [],
   "source": [
    "import os\n",
    "import codecs \n",
    "import sys\n",
    "import re\n",
    "import string\n",
    "from bs4 import BeautifulSoup"
   ]
  },
  {
   "cell_type": "code",
   "execution_count": 13,
   "metadata": {},
   "outputs": [
    {
     "name": "stderr",
     "output_type": "stream",
     "text": [
      "[nltk_data] Downloading package stopwords to\n",
      "[nltk_data]     C:\\Users\\micka\\AppData\\Roaming\\nltk_data...\n",
      "[nltk_data]   Package stopwords is already up-to-date!\n"
     ]
    }
   ],
   "source": [
    "import nltk\n",
    "nltk.download('stopwords')\n",
    "from nltk.corpus import stopwords\n",
    "stop_words = set(stopwords.words('english'))\n",
    "\n",
    "from nltk.stem import WordNetLemmatizer\n",
    "lemmatizer = WordNetLemmatizer()\n",
    "\n",
    "from nltk.tag import pos_tag\n",
    "\n",
    "from nltk.tokenize import word_tokenize"
   ]
  },
  {
   "cell_type": "code",
   "execution_count": 14,
   "metadata": {},
   "outputs": [],
   "source": [
    "import pandas as pd # DataFrame, ...\n",
    "import numpy as np # array, ..."
   ]
  },
  {
   "cell_type": "code",
   "execution_count": 15,
   "metadata": {},
   "outputs": [],
   "source": [
    "# Visualistion\n",
    "import seaborn as sns\n",
    "from matplotlib import pyplot as plt"
   ]
  },
  {
   "cell_type": "code",
   "execution_count": 16,
   "metadata": {},
   "outputs": [],
   "source": [
    "# Sklearn\n",
    "from sklearn.feature_extraction.text import CountVectorizer, TfidfTransformer\n",
    "from sklearn.model_selection import learning_curve\n",
    "from sklearn.pipeline import Pipeline\n",
    "\n",
    "## Classifier\n",
    "from sklearn.naive_bayes import (\n",
    "    BernoulliNB,\n",
    "    ComplementNB,\n",
    "    MultinomialNB,\n",
    ")\n",
    "from sklearn.neighbors import KNeighborsClassifier\n",
    "from sklearn.tree import DecisionTreeClassifier\n",
    "from sklearn.ensemble import RandomForestClassifier, AdaBoostClassifier\n",
    "from sklearn.linear_model import LogisticRegression\n",
    "from sklearn.neural_network import MLPClassifier\n",
    "from sklearn.discriminant_analysis import QuadraticDiscriminantAnalysis\n",
    "\n",
    "from sklearn.metrics import accuracy_score, roc_auc_score, roc_curve, confusion_matrix, classification_report"
   ]
  },
  {
   "attachments": {},
   "cell_type": "markdown",
   "metadata": {},
   "source": [
    "# Variables globales."
   ]
  },
  {
   "cell_type": "code",
   "execution_count": 17,
   "metadata": {},
   "outputs": [],
   "source": [
    "DEBUG = False\n",
    "TEST = 2000\n",
    "MAX_FEATURES = 1500\n",
    "OUT_CSV = \"./out/csv/\""
   ]
  },
  {
   "attachments": {},
   "cell_type": "markdown",
   "metadata": {},
   "source": [
    "# Fonctions."
   ]
  },
  {
   "attachments": {},
   "cell_type": "markdown",
   "metadata": {},
   "source": [
    "## Outils."
   ]
  },
  {
   "attachments": {},
   "cell_type": "markdown",
   "metadata": {},
   "source": [
    "### Lecture des fichiers et création des *datasets*."
   ]
  },
  {
   "cell_type": "code",
   "execution_count": 18,
   "metadata": {},
   "outputs": [],
   "source": [
    "def create_dataset(directory):\n",
    "\tdata = []\n",
    "\n",
    "\t# Files counter.\n",
    "\tfile_count = 0\n",
    "\n",
    "\t# Loop for files.\n",
    "\tfor filename in os.listdir(directory):\n",
    "\t\t\n",
    "\t\tfile = os.path.join(directory, filename)\n",
    "\t\tif os.path.isfile(file):\n",
    "\t\t\twith codecs.open(file, \"r\", encoding=\"utf-8\") as f:\n",
    "\t\t\t\t\n",
    "\t\t\t\t# File name parsing to get id and rating.\n",
    "\t\t\t\tsplit_extension = filename.split(\".\")\n",
    "\t\t\t\tsplit_id_rating = split_extension[0].split(\"_\")\n",
    "\t\t\t\tid_str = split_id_rating[0]\n",
    "\t\t\t\trating_str = split_id_rating[1]\n",
    "\t\t\t\trating = -1\n",
    "\n",
    "\t\t\t\ttry:\n",
    "\t\t\t\t\trating = int(rating_str)\n",
    "\t\t\t\texcept ValueError:\n",
    "\t\t\t\t\tsys.exit(\"Error casting rating to int\")\n",
    "\n",
    "\t\t\t\treview = f.read()\n",
    "\t\t\t\tsentiment = 1 if directory.__contains__(\"pos\") else 0\n",
    "\t\t\t\tdata.append([review, rating, sentiment])\n",
    "\t\t\t\tfile_count += 1\n",
    "\t\t\t\t\n",
    "\tprint(\"file_count : {}\".format(file_count))\n",
    "\treturn pd.DataFrame(data, columns=[\"review\", \"rating\", \"sentiment\"])"
   ]
  },
  {
   "attachments": {},
   "cell_type": "markdown",
   "metadata": {},
   "source": [
    "### *Preprocessing*."
   ]
  },
  {
   "cell_type": "code",
   "execution_count": 19,
   "metadata": {},
   "outputs": [],
   "source": [
    "def preprocess(df):\n",
    "\treviews = []\n",
    "\tsentiments = []\n",
    "\n",
    "\tnbr_reviews = len(df[\"review\"].values)\n",
    "\tcount_reviews = 0\n",
    "\n",
    "\tfor index, row in df.iterrows():\n",
    "\t\treview = row[\"review\"]\n",
    "\t\tsentiment = row[\"sentiment\"]\n",
    "\t\t\n",
    "\t\treview = BeautifulSoup(review, \"html.parser\").text\n",
    "\n",
    "\t\tverbs = [\"VBP\", \"VBN\", \"VBG\", \"VBD\", \"VB\"]\n",
    "\t\tproper_noun = [\"NNS\", \"NNP\", \"NNPS\"]\n",
    "\t\treview = ' '.join(\n",
    "\t\t\t[lemmatizer.lemmatize(word, pos = \"v\") if tag in verbs \n",
    "\t\t\telse lemmatizer.lemmatize(word) \n",
    "\t\t\tfor word, tag in pos_tag(word_tokenize(review)) \n",
    "\t\t\tif tag not in proper_noun])\n",
    "\t\t\n",
    "\t\treview = review.translate(str.maketrans('', '', string.punctuation))\n",
    "\t\t\n",
    "\t\treview = ' '.join([word.lower() for word in review.split()])\n",
    "\n",
    "\t\treview = ' '.join([word for word in review.split() if word not in [\"movie\", \"film\", \"story\"]])\n",
    "\t\t\n",
    "\t\treview = ' '.join([word for word in review.split() if not word.isnumeric()])\n",
    "\n",
    "\t\treview = ' '.join([word for word in review.split() if re.match(\"[a-zA-Z]\", word)])\n",
    "\t\t\n",
    "\t\treview = ' '.join([word for word in review.split() if word not in stop_words])\n",
    "\n",
    "\t\treviews.append(review)\n",
    "\t\tsentiments.append(sentiment)\n",
    "\t\tcount_reviews += 1\n",
    "\t\tif count_reviews % 1000 == 0:\n",
    "\t\t\tprint(\"{}/{}\".format(count_reviews, nbr_reviews))\n",
    "\n",
    "\tdata = {\"review\": reviews, \"sentiment\": sentiments}\n",
    "\tdf_prepro = pd.DataFrame(data)\n",
    "\treturn df_prepro"
   ]
  },
  {
   "attachments": {},
   "cell_type": "markdown",
   "metadata": {},
   "source": [
    "### Suppression des mots communs entre les *positive reviews* et *negative reviews*."
   ]
  },
  {
   "cell_type": "code",
   "execution_count": 20,
   "metadata": {},
   "outputs": [],
   "source": [
    "def remove_common_word(df):\n",
    "\tdf_positive_words = df[df[\"sentiment\"] == 1]\n",
    "\tdf_negative_words = df[df[\"sentiment\"] == 0]\n",
    "\n",
    "\tpositive_words = df_positive_words[\"review\"].values\n",
    "\tnegative_words = df_negative_words[\"review\"].values\n",
    "\n",
    "\tpositive_fd = set(nltk.FreqDist(positive_words))\n",
    "\tnegative_fd = set(nltk.FreqDist(negative_words))\n",
    "\n",
    "\tcommon_set = positive_fd.intersection(negative_fd)\n",
    "\n",
    "\told_reviews = df[\"review\"].values\n",
    "\tnew_reviews = []\n",
    "\twords_removed = 0\n",
    "\tfor review in old_reviews:\n",
    "\t\tnew_review = []\n",
    "\t\tfor word in review.split():\n",
    "\t\t\tif word not in common_set:\n",
    "\t\t\t\tnew_review.append(word)\n",
    "\t\t\telse:\n",
    "\t\t\t\twords_removed += 1\n",
    "\t\tnew_reviews.append(\" \".join(word for word in new_review))\n",
    "\n",
    "\n",
    "\tprint(\"{} words removed !\".format(words_removed))\n",
    "\tdata = {\"review\": new_reviews, \"sentiment\": df[\"sentiment\"].values}\n",
    "\tnew_df = pd.DataFrame(data)\n",
    "\treturn new_df"
   ]
  },
  {
   "attachments": {},
   "cell_type": "markdown",
   "metadata": {},
   "source": [
    "## Entrainement."
   ]
  },
  {
   "cell_type": "code",
   "execution_count": 21,
   "metadata": {},
   "outputs": [],
   "source": [
    "def entrainement(classifiers, X_train, X_test, y_train, y_test):\n",
    "\tliste_predictions = []\n",
    "\t\n",
    "\tfor nom, classifier in classifiers.items():\n",
    "\t\tprint(nom)\n",
    "\n",
    "\t\tprint(\"fitting...\", end=\"\")\n",
    "\t\tpipeline_classifier = Pipeline([\n",
    "\t\t\t('vectorize', CountVectorizer(max_features=MAX_FEATURES)),\n",
    "\t\t\t('tfidf', TfidfTransformer()),\n",
    "\t\t\t('classifier', classifier),\n",
    "\t\t])\n",
    "\t\tpipeline_classifier = pipeline_classifier.fit(X_train, y_train)\n",
    "\t\tprint(\"Done\")\n",
    "\n",
    "\t\tprint(\"predicting labels...\", end=\"\")\n",
    "\t\ty_pred_test = pipeline_classifier.predict(X_test)\n",
    "\t\tprint(\"Done\")\n",
    "\t\n",
    "\t\tliste_predictions.append((nom, pipeline_classifier, y_pred_test))\n",
    "\t\tprint(\"\")\n",
    "\t\n",
    "\treturn liste_predictions"
   ]
  },
  {
   "attachments": {},
   "cell_type": "markdown",
   "metadata": {},
   "source": [
    "## Evaluation."
   ]
  },
  {
   "attachments": {},
   "cell_type": "markdown",
   "metadata": {},
   "source": [
    "### Rapport de classification."
   ]
  },
  {
   "cell_type": "code",
   "execution_count": 22,
   "metadata": {},
   "outputs": [],
   "source": [
    "def my_classification_report(df, class_name, pred, y_test):\n",
    "\tprint(classification_report(y_true=y_test, y_pred=pred))"
   ]
  },
  {
   "attachments": {},
   "cell_type": "markdown",
   "metadata": {},
   "source": [
    "### Matrice de confusion."
   ]
  },
  {
   "cell_type": "code",
   "execution_count": 23,
   "metadata": {},
   "outputs": [],
   "source": [
    "def my_confusion_matrix(model_name, df, class_name, pred, y_test, figsize):\n",
    "    labels = np.unique(df[class_name].values)\n",
    "    conf_matrix = confusion_matrix(y_test, pred, labels=labels)\n",
    "    df_conf_matrix = pd.DataFrame(conf_matrix, columns=labels)\n",
    "    df_conf_matrix[\"index\"] = labels\n",
    "    df_conf_matrix = df_conf_matrix.set_index(\"index\")\n",
    "\n",
    "    plt.figure(figsize=figsize)\n",
    "    sns.heatmap(df_conf_matrix, annot=True, fmt=\"d\", cmap=\"coolwarm\")\n",
    "    plt.title(f\"Matrice de confusion pour {model_name}\")\n",
    "    plt.show()"
   ]
  },
  {
   "attachments": {},
   "cell_type": "markdown",
   "metadata": {},
   "source": [
    "### Courbe d'apprentissage."
   ]
  },
  {
   "cell_type": "code",
   "execution_count": 24,
   "metadata": {},
   "outputs": [],
   "source": [
    "def my_learning_curve(model_name, model, x_train, y_train, figsize):\n",
    "    train_sizes, train_scores, test_scores = learning_curve(\n",
    "        estimator=model, X=x_train, y=y_train, \n",
    "        train_sizes=np.linspace(0.1, 1.0, 4),\n",
    "        n_jobs=10, verbose=0, random_state=42)\n",
    "\n",
    "    #\n",
    "    # Calculate training and test mean and std\n",
    "    #\n",
    "    train_mean = np.mean(train_scores, axis=1)\n",
    "    train_std = np.std(train_scores, axis=1)\n",
    "    test_mean = np.mean(test_scores, axis=1)\n",
    "    test_std = np.std(test_scores, axis=1)\n",
    "\n",
    "    #\n",
    "    # Plot the learning curve\n",
    "    #\n",
    "    plt.figure(figsize=figsize)\n",
    "    plt.plot(train_sizes, train_mean, color='blue', marker='o', markersize=5, label='Training Accuracy')\n",
    "    plt.fill_between(train_sizes, train_mean + train_std, train_mean - train_std, alpha=0.15, color='blue')\n",
    "    plt.plot(train_sizes, test_mean, color='green', marker='+', markersize=5, linestyle='--', label='Validation Accuracy')\n",
    "    plt.fill_between(train_sizes, test_mean + test_std, test_mean - test_std, alpha=0.15, color='green')\n",
    "    plt.title(model_name + ' Learning Curve')\n",
    "    plt.xlabel('Training Data Size')\n",
    "    plt.ylabel('Model accuracy')\n",
    "    plt.grid()\n",
    "    plt.legend(loc='lower right')\n",
    "    plt.show()"
   ]
  },
  {
   "attachments": {},
   "cell_type": "markdown",
   "metadata": {},
   "source": [
    "### *Roc curve*."
   ]
  },
  {
   "cell_type": "code",
   "execution_count": 25,
   "metadata": {},
   "outputs": [],
   "source": [
    "def plot_roc_curve(model_fit, X_test, y_test, figsize): \n",
    "\tprobs = model_fit.predict_proba(X_test)  \n",
    "\tprobs = probs[:, 1]\n",
    "\tfper, tper, thresholds = roc_curve(y_test, probs) \n",
    "\n",
    "\tplt.figure(figsize=figsize)\n",
    "\tplt.plot(fper, tper, color='orange', label='ROC')\n",
    "\tplt.plot([0, 1], [0, 1], color='darkblue', linestyle='--')\n",
    "\n",
    "\tplt.xlabel('False Positive Rate')\n",
    "\tplt.ylabel('True Positive Rate')\n",
    "\n",
    "\tplt.title('Receiver Operating Characteristic (ROC) Curve')\n",
    "\n",
    "\tplt.legend()\n",
    "\tplt.show()"
   ]
  },
  {
   "attachments": {},
   "cell_type": "markdown",
   "metadata": {},
   "source": [
    "### Evaluation global."
   ]
  },
  {
   "cell_type": "code",
   "execution_count": 26,
   "metadata": {},
   "outputs": [],
   "source": [
    "def evaluation(liste_prediction, df, class_name, X_train, X_test, y_train, y_test):\n",
    "\tfor nom, model_fit, y_pred_test in liste_prediction:\n",
    "\t\tprint(nom)\n",
    "\t\tmy_classification_report(df, class_name, y_pred_test, y_test)\n",
    "\n",
    "\t\tfigsize = (4,3)\n",
    "\t\tmy_confusion_matrix(nom, df, class_name, y_pred_test, y_test, figsize)\n",
    "\n",
    "\t\t# my_learning_curve(nom, model_fit, X_train, y_train, figsize)\n",
    "\n",
    "\t\t# plot_roc_curve(model_fit, X_test, y_test, figsize)"
   ]
  },
  {
   "attachments": {},
   "cell_type": "markdown",
   "metadata": {},
   "source": [
    "# Lecture des fichiers et création des *datasets*."
   ]
  },
  {
   "attachments": {},
   "cell_type": "markdown",
   "metadata": {},
   "source": [
    "## *Trainset*."
   ]
  },
  {
   "attachments": {},
   "cell_type": "markdown",
   "metadata": {},
   "source": [
    "### *Positive reviews*"
   ]
  },
  {
   "cell_type": "code",
   "execution_count": 45,
   "metadata": {},
   "outputs": [
    {
     "name": "stdout",
     "output_type": "stream",
     "text": [
      "file_count : 12500\n"
     ]
    },
    {
     "data": {
      "text/html": [
       "<div>\n",
       "<style scoped>\n",
       "    .dataframe tbody tr th:only-of-type {\n",
       "        vertical-align: middle;\n",
       "    }\n",
       "\n",
       "    .dataframe tbody tr th {\n",
       "        vertical-align: top;\n",
       "    }\n",
       "\n",
       "    .dataframe thead th {\n",
       "        text-align: right;\n",
       "    }\n",
       "</style>\n",
       "<table border=\"1\" class=\"dataframe\">\n",
       "  <thead>\n",
       "    <tr style=\"text-align: right;\">\n",
       "      <th></th>\n",
       "      <th>review</th>\n",
       "      <th>rating</th>\n",
       "      <th>sentiment</th>\n",
       "    </tr>\n",
       "  </thead>\n",
       "  <tbody>\n",
       "    <tr>\n",
       "      <th>0</th>\n",
       "      <td>Bromwell High is a cartoon comedy. It ran at t...</td>\n",
       "      <td>9</td>\n",
       "      <td>1</td>\n",
       "    </tr>\n",
       "    <tr>\n",
       "      <th>1</th>\n",
       "      <td>Homelessness (or Houselessness as George Carli...</td>\n",
       "      <td>8</td>\n",
       "      <td>1</td>\n",
       "    </tr>\n",
       "    <tr>\n",
       "      <th>2</th>\n",
       "      <td>Brilliant over-acting by Lesley Ann Warren. Be...</td>\n",
       "      <td>10</td>\n",
       "      <td>1</td>\n",
       "    </tr>\n",
       "    <tr>\n",
       "      <th>3</th>\n",
       "      <td>This is easily the most underrated film inn th...</td>\n",
       "      <td>7</td>\n",
       "      <td>1</td>\n",
       "    </tr>\n",
       "    <tr>\n",
       "      <th>4</th>\n",
       "      <td>This is not the typical Mel Brooks film. It wa...</td>\n",
       "      <td>8</td>\n",
       "      <td>1</td>\n",
       "    </tr>\n",
       "    <tr>\n",
       "      <th>...</th>\n",
       "      <td>...</td>\n",
       "      <td>...</td>\n",
       "      <td>...</td>\n",
       "    </tr>\n",
       "    <tr>\n",
       "      <th>12495</th>\n",
       "      <td>Seeing as the vote average was pretty low, and...</td>\n",
       "      <td>9</td>\n",
       "      <td>1</td>\n",
       "    </tr>\n",
       "    <tr>\n",
       "      <th>12496</th>\n",
       "      <td>The plot had some wretched, unbelievable twist...</td>\n",
       "      <td>8</td>\n",
       "      <td>1</td>\n",
       "    </tr>\n",
       "    <tr>\n",
       "      <th>12497</th>\n",
       "      <td>I am amazed at how this movie(and most others ...</td>\n",
       "      <td>10</td>\n",
       "      <td>1</td>\n",
       "    </tr>\n",
       "    <tr>\n",
       "      <th>12498</th>\n",
       "      <td>A Christmas Together actually came before my t...</td>\n",
       "      <td>8</td>\n",
       "      <td>1</td>\n",
       "    </tr>\n",
       "    <tr>\n",
       "      <th>12499</th>\n",
       "      <td>Working-class romantic drama from director Mar...</td>\n",
       "      <td>7</td>\n",
       "      <td>1</td>\n",
       "    </tr>\n",
       "  </tbody>\n",
       "</table>\n",
       "<p>12500 rows × 3 columns</p>\n",
       "</div>"
      ],
      "text/plain": [
       "                                                  review  rating  sentiment\n",
       "0      Bromwell High is a cartoon comedy. It ran at t...       9          1\n",
       "1      Homelessness (or Houselessness as George Carli...       8          1\n",
       "2      Brilliant over-acting by Lesley Ann Warren. Be...      10          1\n",
       "3      This is easily the most underrated film inn th...       7          1\n",
       "4      This is not the typical Mel Brooks film. It wa...       8          1\n",
       "...                                                  ...     ...        ...\n",
       "12495  Seeing as the vote average was pretty low, and...       9          1\n",
       "12496  The plot had some wretched, unbelievable twist...       8          1\n",
       "12497  I am amazed at how this movie(and most others ...      10          1\n",
       "12498  A Christmas Together actually came before my t...       8          1\n",
       "12499  Working-class romantic drama from director Mar...       7          1\n",
       "\n",
       "[12500 rows x 3 columns]"
      ]
     },
     "execution_count": 45,
     "metadata": {},
     "output_type": "execute_result"
    }
   ],
   "source": [
    "df_train_pos = create_dataset(\"./data/train/pos/\")\n",
    "df_train_pos"
   ]
  },
  {
   "attachments": {},
   "cell_type": "markdown",
   "metadata": {},
   "source": [
    "### *Negative reviews*"
   ]
  },
  {
   "cell_type": "code",
   "execution_count": 46,
   "metadata": {},
   "outputs": [
    {
     "name": "stdout",
     "output_type": "stream",
     "text": [
      "file_count : 12500\n"
     ]
    },
    {
     "data": {
      "text/html": [
       "<div>\n",
       "<style scoped>\n",
       "    .dataframe tbody tr th:only-of-type {\n",
       "        vertical-align: middle;\n",
       "    }\n",
       "\n",
       "    .dataframe tbody tr th {\n",
       "        vertical-align: top;\n",
       "    }\n",
       "\n",
       "    .dataframe thead th {\n",
       "        text-align: right;\n",
       "    }\n",
       "</style>\n",
       "<table border=\"1\" class=\"dataframe\">\n",
       "  <thead>\n",
       "    <tr style=\"text-align: right;\">\n",
       "      <th></th>\n",
       "      <th>review</th>\n",
       "      <th>rating</th>\n",
       "      <th>sentiment</th>\n",
       "    </tr>\n",
       "  </thead>\n",
       "  <tbody>\n",
       "    <tr>\n",
       "      <th>0</th>\n",
       "      <td>Story of a man who has unnatural feelings for ...</td>\n",
       "      <td>3</td>\n",
       "      <td>0</td>\n",
       "    </tr>\n",
       "    <tr>\n",
       "      <th>1</th>\n",
       "      <td>Airport '77 starts as a brand new luxury 747 p...</td>\n",
       "      <td>4</td>\n",
       "      <td>0</td>\n",
       "    </tr>\n",
       "    <tr>\n",
       "      <th>2</th>\n",
       "      <td>This film lacked something I couldn't put my f...</td>\n",
       "      <td>4</td>\n",
       "      <td>0</td>\n",
       "    </tr>\n",
       "    <tr>\n",
       "      <th>3</th>\n",
       "      <td>Sorry everyone,,, I know this is supposed to b...</td>\n",
       "      <td>1</td>\n",
       "      <td>0</td>\n",
       "    </tr>\n",
       "    <tr>\n",
       "      <th>4</th>\n",
       "      <td>When I was little my parents took me along to ...</td>\n",
       "      <td>1</td>\n",
       "      <td>0</td>\n",
       "    </tr>\n",
       "    <tr>\n",
       "      <th>...</th>\n",
       "      <td>...</td>\n",
       "      <td>...</td>\n",
       "      <td>...</td>\n",
       "    </tr>\n",
       "    <tr>\n",
       "      <th>12495</th>\n",
       "      <td>Towards the end of the movie, I felt it was to...</td>\n",
       "      <td>4</td>\n",
       "      <td>0</td>\n",
       "    </tr>\n",
       "    <tr>\n",
       "      <th>12496</th>\n",
       "      <td>This is the kind of movie that my enemies cont...</td>\n",
       "      <td>3</td>\n",
       "      <td>0</td>\n",
       "    </tr>\n",
       "    <tr>\n",
       "      <th>12497</th>\n",
       "      <td>I saw 'Descent' last night at the Stockholm Fi...</td>\n",
       "      <td>3</td>\n",
       "      <td>0</td>\n",
       "    </tr>\n",
       "    <tr>\n",
       "      <th>12498</th>\n",
       "      <td>Some films that you pick up for a pound turn o...</td>\n",
       "      <td>1</td>\n",
       "      <td>0</td>\n",
       "    </tr>\n",
       "    <tr>\n",
       "      <th>12499</th>\n",
       "      <td>This is one of the dumbest films, I've ever se...</td>\n",
       "      <td>1</td>\n",
       "      <td>0</td>\n",
       "    </tr>\n",
       "  </tbody>\n",
       "</table>\n",
       "<p>12500 rows × 3 columns</p>\n",
       "</div>"
      ],
      "text/plain": [
       "                                                  review  rating  sentiment\n",
       "0      Story of a man who has unnatural feelings for ...       3          0\n",
       "1      Airport '77 starts as a brand new luxury 747 p...       4          0\n",
       "2      This film lacked something I couldn't put my f...       4          0\n",
       "3      Sorry everyone,,, I know this is supposed to b...       1          0\n",
       "4      When I was little my parents took me along to ...       1          0\n",
       "...                                                  ...     ...        ...\n",
       "12495  Towards the end of the movie, I felt it was to...       4          0\n",
       "12496  This is the kind of movie that my enemies cont...       3          0\n",
       "12497  I saw 'Descent' last night at the Stockholm Fi...       3          0\n",
       "12498  Some films that you pick up for a pound turn o...       1          0\n",
       "12499  This is one of the dumbest films, I've ever se...       1          0\n",
       "\n",
       "[12500 rows x 3 columns]"
      ]
     },
     "execution_count": 46,
     "metadata": {},
     "output_type": "execute_result"
    }
   ],
   "source": [
    "df_train_neg = create_dataset(\"./data/train/neg/\")\n",
    "df_train_neg"
   ]
  },
  {
   "attachments": {},
   "cell_type": "markdown",
   "metadata": {},
   "source": [
    "### Création du *trainset*."
   ]
  },
  {
   "cell_type": "code",
   "execution_count": 47,
   "metadata": {},
   "outputs": [
    {
     "data": {
      "text/html": [
       "<div>\n",
       "<style scoped>\n",
       "    .dataframe tbody tr th:only-of-type {\n",
       "        vertical-align: middle;\n",
       "    }\n",
       "\n",
       "    .dataframe tbody tr th {\n",
       "        vertical-align: top;\n",
       "    }\n",
       "\n",
       "    .dataframe thead th {\n",
       "        text-align: right;\n",
       "    }\n",
       "</style>\n",
       "<table border=\"1\" class=\"dataframe\">\n",
       "  <thead>\n",
       "    <tr style=\"text-align: right;\">\n",
       "      <th></th>\n",
       "      <th>review</th>\n",
       "      <th>rating</th>\n",
       "      <th>sentiment</th>\n",
       "    </tr>\n",
       "  </thead>\n",
       "  <tbody>\n",
       "    <tr>\n",
       "      <th>0</th>\n",
       "      <td>Bromwell High is a cartoon comedy. It ran at t...</td>\n",
       "      <td>9</td>\n",
       "      <td>1</td>\n",
       "    </tr>\n",
       "    <tr>\n",
       "      <th>1</th>\n",
       "      <td>Homelessness (or Houselessness as George Carli...</td>\n",
       "      <td>8</td>\n",
       "      <td>1</td>\n",
       "    </tr>\n",
       "    <tr>\n",
       "      <th>2</th>\n",
       "      <td>Brilliant over-acting by Lesley Ann Warren. Be...</td>\n",
       "      <td>10</td>\n",
       "      <td>1</td>\n",
       "    </tr>\n",
       "    <tr>\n",
       "      <th>3</th>\n",
       "      <td>This is easily the most underrated film inn th...</td>\n",
       "      <td>7</td>\n",
       "      <td>1</td>\n",
       "    </tr>\n",
       "    <tr>\n",
       "      <th>4</th>\n",
       "      <td>This is not the typical Mel Brooks film. It wa...</td>\n",
       "      <td>8</td>\n",
       "      <td>1</td>\n",
       "    </tr>\n",
       "    <tr>\n",
       "      <th>...</th>\n",
       "      <td>...</td>\n",
       "      <td>...</td>\n",
       "      <td>...</td>\n",
       "    </tr>\n",
       "    <tr>\n",
       "      <th>24995</th>\n",
       "      <td>Towards the end of the movie, I felt it was to...</td>\n",
       "      <td>4</td>\n",
       "      <td>0</td>\n",
       "    </tr>\n",
       "    <tr>\n",
       "      <th>24996</th>\n",
       "      <td>This is the kind of movie that my enemies cont...</td>\n",
       "      <td>3</td>\n",
       "      <td>0</td>\n",
       "    </tr>\n",
       "    <tr>\n",
       "      <th>24997</th>\n",
       "      <td>I saw 'Descent' last night at the Stockholm Fi...</td>\n",
       "      <td>3</td>\n",
       "      <td>0</td>\n",
       "    </tr>\n",
       "    <tr>\n",
       "      <th>24998</th>\n",
       "      <td>Some films that you pick up for a pound turn o...</td>\n",
       "      <td>1</td>\n",
       "      <td>0</td>\n",
       "    </tr>\n",
       "    <tr>\n",
       "      <th>24999</th>\n",
       "      <td>This is one of the dumbest films, I've ever se...</td>\n",
       "      <td>1</td>\n",
       "      <td>0</td>\n",
       "    </tr>\n",
       "  </tbody>\n",
       "</table>\n",
       "<p>25000 rows × 3 columns</p>\n",
       "</div>"
      ],
      "text/plain": [
       "                                                  review  rating  sentiment\n",
       "0      Bromwell High is a cartoon comedy. It ran at t...       9          1\n",
       "1      Homelessness (or Houselessness as George Carli...       8          1\n",
       "2      Brilliant over-acting by Lesley Ann Warren. Be...      10          1\n",
       "3      This is easily the most underrated film inn th...       7          1\n",
       "4      This is not the typical Mel Brooks film. It wa...       8          1\n",
       "...                                                  ...     ...        ...\n",
       "24995  Towards the end of the movie, I felt it was to...       4          0\n",
       "24996  This is the kind of movie that my enemies cont...       3          0\n",
       "24997  I saw 'Descent' last night at the Stockholm Fi...       3          0\n",
       "24998  Some films that you pick up for a pound turn o...       1          0\n",
       "24999  This is one of the dumbest films, I've ever se...       1          0\n",
       "\n",
       "[25000 rows x 3 columns]"
      ]
     },
     "execution_count": 47,
     "metadata": {},
     "output_type": "execute_result"
    }
   ],
   "source": [
    "df_train = pd.concat([df_train_pos, df_train_neg], axis=0)\n",
    "df_train.reset_index(drop=True, inplace=True)\n",
    "df_train"
   ]
  },
  {
   "attachments": {},
   "cell_type": "markdown",
   "metadata": {},
   "source": [
    "### Ecriture dans un fichier."
   ]
  },
  {
   "cell_type": "code",
   "execution_count": 48,
   "metadata": {},
   "outputs": [],
   "source": [
    "df_train.to_csv(f\"{OUT_CSV}df_train.csv\", index=False)"
   ]
  },
  {
   "attachments": {},
   "cell_type": "markdown",
   "metadata": {},
   "source": [
    "## *Testset*."
   ]
  },
  {
   "attachments": {},
   "cell_type": "markdown",
   "metadata": {},
   "source": [
    "### *Positive reviews*"
   ]
  },
  {
   "cell_type": "code",
   "execution_count": 49,
   "metadata": {},
   "outputs": [
    {
     "name": "stdout",
     "output_type": "stream",
     "text": [
      "file_count : 12500\n"
     ]
    },
    {
     "data": {
      "text/html": [
       "<div>\n",
       "<style scoped>\n",
       "    .dataframe tbody tr th:only-of-type {\n",
       "        vertical-align: middle;\n",
       "    }\n",
       "\n",
       "    .dataframe tbody tr th {\n",
       "        vertical-align: top;\n",
       "    }\n",
       "\n",
       "    .dataframe thead th {\n",
       "        text-align: right;\n",
       "    }\n",
       "</style>\n",
       "<table border=\"1\" class=\"dataframe\">\n",
       "  <thead>\n",
       "    <tr style=\"text-align: right;\">\n",
       "      <th></th>\n",
       "      <th>review</th>\n",
       "      <th>rating</th>\n",
       "      <th>sentiment</th>\n",
       "    </tr>\n",
       "  </thead>\n",
       "  <tbody>\n",
       "    <tr>\n",
       "      <th>0</th>\n",
       "      <td>I went and saw this movie last night after bei...</td>\n",
       "      <td>10</td>\n",
       "      <td>1</td>\n",
       "    </tr>\n",
       "    <tr>\n",
       "      <th>1</th>\n",
       "      <td>Actor turned director Bill Paxton follows up h...</td>\n",
       "      <td>7</td>\n",
       "      <td>1</td>\n",
       "    </tr>\n",
       "    <tr>\n",
       "      <th>2</th>\n",
       "      <td>As a recreational golfer with some knowledge o...</td>\n",
       "      <td>9</td>\n",
       "      <td>1</td>\n",
       "    </tr>\n",
       "    <tr>\n",
       "      <th>3</th>\n",
       "      <td>I saw this film in a sneak preview, and it is ...</td>\n",
       "      <td>8</td>\n",
       "      <td>1</td>\n",
       "    </tr>\n",
       "    <tr>\n",
       "      <th>4</th>\n",
       "      <td>Bill Paxton has taken the true story of the 19...</td>\n",
       "      <td>8</td>\n",
       "      <td>1</td>\n",
       "    </tr>\n",
       "    <tr>\n",
       "      <th>...</th>\n",
       "      <td>...</td>\n",
       "      <td>...</td>\n",
       "      <td>...</td>\n",
       "    </tr>\n",
       "    <tr>\n",
       "      <th>12495</th>\n",
       "      <td>I was extraordinarily impressed by this film. ...</td>\n",
       "      <td>8</td>\n",
       "      <td>1</td>\n",
       "    </tr>\n",
       "    <tr>\n",
       "      <th>12496</th>\n",
       "      <td>Although I'm not a golf fan, I attended a snea...</td>\n",
       "      <td>10</td>\n",
       "      <td>1</td>\n",
       "    </tr>\n",
       "    <tr>\n",
       "      <th>12497</th>\n",
       "      <td>From the start of \"The Edge Of Love\", the view...</td>\n",
       "      <td>8</td>\n",
       "      <td>1</td>\n",
       "    </tr>\n",
       "    <tr>\n",
       "      <th>12498</th>\n",
       "      <td>This movie, with all its complexity and subtle...</td>\n",
       "      <td>10</td>\n",
       "      <td>1</td>\n",
       "    </tr>\n",
       "    <tr>\n",
       "      <th>12499</th>\n",
       "      <td>I've seen this story before but my kids haven'...</td>\n",
       "      <td>7</td>\n",
       "      <td>1</td>\n",
       "    </tr>\n",
       "  </tbody>\n",
       "</table>\n",
       "<p>12500 rows × 3 columns</p>\n",
       "</div>"
      ],
      "text/plain": [
       "                                                  review  rating  sentiment\n",
       "0      I went and saw this movie last night after bei...      10          1\n",
       "1      Actor turned director Bill Paxton follows up h...       7          1\n",
       "2      As a recreational golfer with some knowledge o...       9          1\n",
       "3      I saw this film in a sneak preview, and it is ...       8          1\n",
       "4      Bill Paxton has taken the true story of the 19...       8          1\n",
       "...                                                  ...     ...        ...\n",
       "12495  I was extraordinarily impressed by this film. ...       8          1\n",
       "12496  Although I'm not a golf fan, I attended a snea...      10          1\n",
       "12497  From the start of \"The Edge Of Love\", the view...       8          1\n",
       "12498  This movie, with all its complexity and subtle...      10          1\n",
       "12499  I've seen this story before but my kids haven'...       7          1\n",
       "\n",
       "[12500 rows x 3 columns]"
      ]
     },
     "execution_count": 49,
     "metadata": {},
     "output_type": "execute_result"
    }
   ],
   "source": [
    "df_test_pos = create_dataset(\"./data/test/pos/\")\n",
    "df_test_pos"
   ]
  },
  {
   "attachments": {},
   "cell_type": "markdown",
   "metadata": {},
   "source": [
    "### *Negative reviews*"
   ]
  },
  {
   "cell_type": "code",
   "execution_count": 50,
   "metadata": {},
   "outputs": [
    {
     "name": "stdout",
     "output_type": "stream",
     "text": [
      "file_count : 12500\n"
     ]
    },
    {
     "data": {
      "text/html": [
       "<div>\n",
       "<style scoped>\n",
       "    .dataframe tbody tr th:only-of-type {\n",
       "        vertical-align: middle;\n",
       "    }\n",
       "\n",
       "    .dataframe tbody tr th {\n",
       "        vertical-align: top;\n",
       "    }\n",
       "\n",
       "    .dataframe thead th {\n",
       "        text-align: right;\n",
       "    }\n",
       "</style>\n",
       "<table border=\"1\" class=\"dataframe\">\n",
       "  <thead>\n",
       "    <tr style=\"text-align: right;\">\n",
       "      <th></th>\n",
       "      <th>review</th>\n",
       "      <th>rating</th>\n",
       "      <th>sentiment</th>\n",
       "    </tr>\n",
       "  </thead>\n",
       "  <tbody>\n",
       "    <tr>\n",
       "      <th>0</th>\n",
       "      <td>Story of a man who has unnatural feelings for ...</td>\n",
       "      <td>3</td>\n",
       "      <td>0</td>\n",
       "    </tr>\n",
       "    <tr>\n",
       "      <th>1</th>\n",
       "      <td>Airport '77 starts as a brand new luxury 747 p...</td>\n",
       "      <td>4</td>\n",
       "      <td>0</td>\n",
       "    </tr>\n",
       "    <tr>\n",
       "      <th>2</th>\n",
       "      <td>This film lacked something I couldn't put my f...</td>\n",
       "      <td>4</td>\n",
       "      <td>0</td>\n",
       "    </tr>\n",
       "    <tr>\n",
       "      <th>3</th>\n",
       "      <td>Sorry everyone,,, I know this is supposed to b...</td>\n",
       "      <td>1</td>\n",
       "      <td>0</td>\n",
       "    </tr>\n",
       "    <tr>\n",
       "      <th>4</th>\n",
       "      <td>When I was little my parents took me along to ...</td>\n",
       "      <td>1</td>\n",
       "      <td>0</td>\n",
       "    </tr>\n",
       "    <tr>\n",
       "      <th>...</th>\n",
       "      <td>...</td>\n",
       "      <td>...</td>\n",
       "      <td>...</td>\n",
       "    </tr>\n",
       "    <tr>\n",
       "      <th>12495</th>\n",
       "      <td>Towards the end of the movie, I felt it was to...</td>\n",
       "      <td>4</td>\n",
       "      <td>0</td>\n",
       "    </tr>\n",
       "    <tr>\n",
       "      <th>12496</th>\n",
       "      <td>This is the kind of movie that my enemies cont...</td>\n",
       "      <td>3</td>\n",
       "      <td>0</td>\n",
       "    </tr>\n",
       "    <tr>\n",
       "      <th>12497</th>\n",
       "      <td>I saw 'Descent' last night at the Stockholm Fi...</td>\n",
       "      <td>3</td>\n",
       "      <td>0</td>\n",
       "    </tr>\n",
       "    <tr>\n",
       "      <th>12498</th>\n",
       "      <td>Some films that you pick up for a pound turn o...</td>\n",
       "      <td>1</td>\n",
       "      <td>0</td>\n",
       "    </tr>\n",
       "    <tr>\n",
       "      <th>12499</th>\n",
       "      <td>This is one of the dumbest films, I've ever se...</td>\n",
       "      <td>1</td>\n",
       "      <td>0</td>\n",
       "    </tr>\n",
       "  </tbody>\n",
       "</table>\n",
       "<p>12500 rows × 3 columns</p>\n",
       "</div>"
      ],
      "text/plain": [
       "                                                  review  rating  sentiment\n",
       "0      Story of a man who has unnatural feelings for ...       3          0\n",
       "1      Airport '77 starts as a brand new luxury 747 p...       4          0\n",
       "2      This film lacked something I couldn't put my f...       4          0\n",
       "3      Sorry everyone,,, I know this is supposed to b...       1          0\n",
       "4      When I was little my parents took me along to ...       1          0\n",
       "...                                                  ...     ...        ...\n",
       "12495  Towards the end of the movie, I felt it was to...       4          0\n",
       "12496  This is the kind of movie that my enemies cont...       3          0\n",
       "12497  I saw 'Descent' last night at the Stockholm Fi...       3          0\n",
       "12498  Some films that you pick up for a pound turn o...       1          0\n",
       "12499  This is one of the dumbest films, I've ever se...       1          0\n",
       "\n",
       "[12500 rows x 3 columns]"
      ]
     },
     "execution_count": 50,
     "metadata": {},
     "output_type": "execute_result"
    }
   ],
   "source": [
    "df_test_neg = create_dataset(\"./data/test/neg/\")\n",
    "df_train_neg"
   ]
  },
  {
   "attachments": {},
   "cell_type": "markdown",
   "metadata": {},
   "source": [
    "### Création du *testset*."
   ]
  },
  {
   "cell_type": "code",
   "execution_count": 51,
   "metadata": {},
   "outputs": [
    {
     "data": {
      "text/html": [
       "<div>\n",
       "<style scoped>\n",
       "    .dataframe tbody tr th:only-of-type {\n",
       "        vertical-align: middle;\n",
       "    }\n",
       "\n",
       "    .dataframe tbody tr th {\n",
       "        vertical-align: top;\n",
       "    }\n",
       "\n",
       "    .dataframe thead th {\n",
       "        text-align: right;\n",
       "    }\n",
       "</style>\n",
       "<table border=\"1\" class=\"dataframe\">\n",
       "  <thead>\n",
       "    <tr style=\"text-align: right;\">\n",
       "      <th></th>\n",
       "      <th>review</th>\n",
       "      <th>rating</th>\n",
       "      <th>sentiment</th>\n",
       "    </tr>\n",
       "  </thead>\n",
       "  <tbody>\n",
       "    <tr>\n",
       "      <th>0</th>\n",
       "      <td>I went and saw this movie last night after bei...</td>\n",
       "      <td>10</td>\n",
       "      <td>1</td>\n",
       "    </tr>\n",
       "    <tr>\n",
       "      <th>1</th>\n",
       "      <td>Actor turned director Bill Paxton follows up h...</td>\n",
       "      <td>7</td>\n",
       "      <td>1</td>\n",
       "    </tr>\n",
       "    <tr>\n",
       "      <th>2</th>\n",
       "      <td>As a recreational golfer with some knowledge o...</td>\n",
       "      <td>9</td>\n",
       "      <td>1</td>\n",
       "    </tr>\n",
       "    <tr>\n",
       "      <th>3</th>\n",
       "      <td>I saw this film in a sneak preview, and it is ...</td>\n",
       "      <td>8</td>\n",
       "      <td>1</td>\n",
       "    </tr>\n",
       "    <tr>\n",
       "      <th>4</th>\n",
       "      <td>Bill Paxton has taken the true story of the 19...</td>\n",
       "      <td>8</td>\n",
       "      <td>1</td>\n",
       "    </tr>\n",
       "    <tr>\n",
       "      <th>...</th>\n",
       "      <td>...</td>\n",
       "      <td>...</td>\n",
       "      <td>...</td>\n",
       "    </tr>\n",
       "    <tr>\n",
       "      <th>24995</th>\n",
       "      <td>I occasionally let my kids watch this garbage ...</td>\n",
       "      <td>1</td>\n",
       "      <td>0</td>\n",
       "    </tr>\n",
       "    <tr>\n",
       "      <th>24996</th>\n",
       "      <td>When all we have anymore is pretty much realit...</td>\n",
       "      <td>1</td>\n",
       "      <td>0</td>\n",
       "    </tr>\n",
       "    <tr>\n",
       "      <th>24997</th>\n",
       "      <td>The basic genre is a thriller intercut with an...</td>\n",
       "      <td>3</td>\n",
       "      <td>0</td>\n",
       "    </tr>\n",
       "    <tr>\n",
       "      <th>24998</th>\n",
       "      <td>Four things intrigued me as to this film - fir...</td>\n",
       "      <td>3</td>\n",
       "      <td>0</td>\n",
       "    </tr>\n",
       "    <tr>\n",
       "      <th>24999</th>\n",
       "      <td>David Bryce's comments nearby are exceptionall...</td>\n",
       "      <td>4</td>\n",
       "      <td>0</td>\n",
       "    </tr>\n",
       "  </tbody>\n",
       "</table>\n",
       "<p>25000 rows × 3 columns</p>\n",
       "</div>"
      ],
      "text/plain": [
       "                                                  review  rating  sentiment\n",
       "0      I went and saw this movie last night after bei...      10          1\n",
       "1      Actor turned director Bill Paxton follows up h...       7          1\n",
       "2      As a recreational golfer with some knowledge o...       9          1\n",
       "3      I saw this film in a sneak preview, and it is ...       8          1\n",
       "4      Bill Paxton has taken the true story of the 19...       8          1\n",
       "...                                                  ...     ...        ...\n",
       "24995  I occasionally let my kids watch this garbage ...       1          0\n",
       "24996  When all we have anymore is pretty much realit...       1          0\n",
       "24997  The basic genre is a thriller intercut with an...       3          0\n",
       "24998  Four things intrigued me as to this film - fir...       3          0\n",
       "24999  David Bryce's comments nearby are exceptionall...       4          0\n",
       "\n",
       "[25000 rows x 3 columns]"
      ]
     },
     "execution_count": 51,
     "metadata": {},
     "output_type": "execute_result"
    }
   ],
   "source": [
    "df_test = pd.concat([df_test_pos, df_test_neg], axis=0)\n",
    "df_test.reset_index(drop=True, inplace=True)\n",
    "df_test"
   ]
  },
  {
   "attachments": {},
   "cell_type": "markdown",
   "metadata": {},
   "source": [
    "### Ecriture dans un fichier."
   ]
  },
  {
   "cell_type": "code",
   "execution_count": 52,
   "metadata": {},
   "outputs": [],
   "source": [
    "df_test.to_csv(f\"{OUT_CSV}df_test.csv\", index=False)"
   ]
  },
  {
   "attachments": {},
   "cell_type": "markdown",
   "metadata": {},
   "source": [
    "# *Preprocessing*."
   ]
  },
  {
   "attachments": {},
   "cell_type": "markdown",
   "metadata": {},
   "source": [
    "## *Trainset*."
   ]
  },
  {
   "cell_type": "code",
   "execution_count": 56,
   "metadata": {},
   "outputs": [],
   "source": [
    "if DEBUG:\n",
    "\tdf_train = df_train.sample(TEST)"
   ]
  },
  {
   "cell_type": "code",
   "execution_count": 57,
   "metadata": {},
   "outputs": [
    {
     "name": "stdout",
     "output_type": "stream",
     "text": [
      "1000/25000\n",
      "2000/25000\n"
     ]
    },
    {
     "name": "stderr",
     "output_type": "stream",
     "text": [
      "d:\\Programmation\\anaconda3\\lib\\site-packages\\bs4\\__init__.py:435: MarkupResemblesLocatorWarning: The input looks more like a filename than markup. You may want to open this file and pass the filehandle into Beautiful Soup.\n",
      "  warnings.warn(\n"
     ]
    },
    {
     "name": "stdout",
     "output_type": "stream",
     "text": [
      "3000/25000\n",
      "4000/25000\n",
      "5000/25000\n",
      "6000/25000\n",
      "7000/25000\n",
      "8000/25000\n",
      "9000/25000\n",
      "10000/25000\n",
      "11000/25000\n",
      "12000/25000\n",
      "13000/25000\n",
      "14000/25000\n",
      "15000/25000\n",
      "16000/25000\n",
      "17000/25000\n",
      "18000/25000\n",
      "19000/25000\n",
      "20000/25000\n",
      "21000/25000\n",
      "22000/25000\n",
      "23000/25000\n",
      "24000/25000\n",
      "25000/25000\n"
     ]
    },
    {
     "data": {
      "text/html": [
       "<div>\n",
       "<style scoped>\n",
       "    .dataframe tbody tr th:only-of-type {\n",
       "        vertical-align: middle;\n",
       "    }\n",
       "\n",
       "    .dataframe tbody tr th {\n",
       "        vertical-align: top;\n",
       "    }\n",
       "\n",
       "    .dataframe thead th {\n",
       "        text-align: right;\n",
       "    }\n",
       "</style>\n",
       "<table border=\"1\" class=\"dataframe\">\n",
       "  <thead>\n",
       "    <tr style=\"text-align: right;\">\n",
       "      <th></th>\n",
       "      <th>review</th>\n",
       "      <th>sentiment</th>\n",
       "    </tr>\n",
       "  </thead>\n",
       "  <tbody>\n",
       "    <tr>\n",
       "      <th>0</th>\n",
       "      <td>cartoon comedy run time school life teaching p...</td>\n",
       "      <td>1</td>\n",
       "    </tr>\n",
       "    <tr>\n",
       "      <th>1</th>\n",
       "      <td>state ha issue never plan help street consider...</td>\n",
       "      <td>1</td>\n",
       "    </tr>\n",
       "    <tr>\n",
       "      <th>2</th>\n",
       "      <td>brilliant overacting dramatic hobo lady ever s...</td>\n",
       "      <td>1</td>\n",
       "    </tr>\n",
       "    <tr>\n",
       "      <th>3</th>\n",
       "      <td>easily underrated inn cannon sure flaw doe giv...</td>\n",
       "      <td>1</td>\n",
       "    </tr>\n",
       "    <tr>\n",
       "      <th>4</th>\n",
       "      <td>typical much le slapstick actually plot follow...</td>\n",
       "      <td>1</td>\n",
       "    </tr>\n",
       "    <tr>\n",
       "      <th>...</th>\n",
       "      <td>...</td>\n",
       "      <td>...</td>\n",
       "    </tr>\n",
       "    <tr>\n",
       "      <th>24995</th>\n",
       "      <td>towards end felt technical felt like classroom...</td>\n",
       "      <td>0</td>\n",
       "    </tr>\n",
       "    <tr>\n",
       "      <th>24996</th>\n",
       "      <td>kind content watch time bloody true watch make...</td>\n",
       "      <td>0</td>\n",
       "    </tr>\n",
       "    <tr>\n",
       "      <th>24997</th>\n",
       "      <td>saw last night one huge disappointment disappo...</td>\n",
       "      <td>0</td>\n",
       "    </tr>\n",
       "    <tr>\n",
       "      <th>24998</th>\n",
       "      <td>pick pound turn rather good release obscure it...</td>\n",
       "      <td>0</td>\n",
       "    </tr>\n",
       "    <tr>\n",
       "      <th>24999</th>\n",
       "      <td>one dumbest ever see rip nearly ever type thri...</td>\n",
       "      <td>0</td>\n",
       "    </tr>\n",
       "  </tbody>\n",
       "</table>\n",
       "<p>25000 rows × 2 columns</p>\n",
       "</div>"
      ],
      "text/plain": [
       "                                                  review  sentiment\n",
       "0      cartoon comedy run time school life teaching p...          1\n",
       "1      state ha issue never plan help street consider...          1\n",
       "2      brilliant overacting dramatic hobo lady ever s...          1\n",
       "3      easily underrated inn cannon sure flaw doe giv...          1\n",
       "4      typical much le slapstick actually plot follow...          1\n",
       "...                                                  ...        ...\n",
       "24995  towards end felt technical felt like classroom...          0\n",
       "24996  kind content watch time bloody true watch make...          0\n",
       "24997  saw last night one huge disappointment disappo...          0\n",
       "24998  pick pound turn rather good release obscure it...          0\n",
       "24999  one dumbest ever see rip nearly ever type thri...          0\n",
       "\n",
       "[25000 rows x 2 columns]"
      ]
     },
     "execution_count": 57,
     "metadata": {},
     "output_type": "execute_result"
    }
   ],
   "source": [
    "df_train_prepro = preprocess(df_train)\n",
    "df_train_prepro"
   ]
  },
  {
   "attachments": {},
   "cell_type": "markdown",
   "metadata": {},
   "source": [
    "### Ecriture dans un fichier."
   ]
  },
  {
   "cell_type": "code",
   "execution_count": 58,
   "metadata": {},
   "outputs": [],
   "source": [
    "df_train_prepro.to_csv(f\"{OUT_CSV}df_train_prepro.csv\", index=False)"
   ]
  },
  {
   "attachments": {},
   "cell_type": "markdown",
   "metadata": {},
   "source": [
    "## *Testset*."
   ]
  },
  {
   "cell_type": "code",
   "execution_count": 59,
   "metadata": {},
   "outputs": [],
   "source": [
    "if DEBUG:\n",
    "\tdf_test = df_test.sample(TEST)"
   ]
  },
  {
   "cell_type": "code",
   "execution_count": 60,
   "metadata": {},
   "outputs": [
    {
     "name": "stderr",
     "output_type": "stream",
     "text": [
      "d:\\Programmation\\anaconda3\\lib\\site-packages\\bs4\\__init__.py:435: MarkupResemblesLocatorWarning: The input looks more like a filename than markup. You may want to open this file and pass the filehandle into Beautiful Soup.\n",
      "  warnings.warn(\n"
     ]
    },
    {
     "name": "stdout",
     "output_type": "stream",
     "text": [
      "1000/25000\n",
      "2000/25000\n",
      "3000/25000\n",
      "4000/25000\n",
      "5000/25000\n",
      "6000/25000\n",
      "7000/25000\n",
      "8000/25000\n",
      "9000/25000\n",
      "10000/25000\n",
      "11000/25000\n",
      "12000/25000\n",
      "13000/25000\n",
      "14000/25000\n",
      "15000/25000\n",
      "16000/25000\n",
      "17000/25000\n",
      "18000/25000\n",
      "19000/25000\n",
      "20000/25000\n",
      "21000/25000\n",
      "22000/25000\n",
      "23000/25000\n",
      "24000/25000\n",
      "25000/25000\n"
     ]
    },
    {
     "data": {
      "text/html": [
       "<div>\n",
       "<style scoped>\n",
       "    .dataframe tbody tr th:only-of-type {\n",
       "        vertical-align: middle;\n",
       "    }\n",
       "\n",
       "    .dataframe tbody tr th {\n",
       "        vertical-align: top;\n",
       "    }\n",
       "\n",
       "    .dataframe thead th {\n",
       "        text-align: right;\n",
       "    }\n",
       "</style>\n",
       "<table border=\"1\" class=\"dataframe\">\n",
       "  <thead>\n",
       "    <tr style=\"text-align: right;\">\n",
       "      <th></th>\n",
       "      <th>review</th>\n",
       "      <th>sentiment</th>\n",
       "    </tr>\n",
       "  </thead>\n",
       "  <tbody>\n",
       "    <tr>\n",
       "      <th>0</th>\n",
       "      <td>go saw last night coax mine admit reluctant se...</td>\n",
       "      <td>1</td>\n",
       "    </tr>\n",
       "    <tr>\n",
       "      <th>1</th>\n",
       "      <td>actor turn director follows promising debut fa...</td>\n",
       "      <td>1</td>\n",
       "    </tr>\n",
       "    <tr>\n",
       "      <th>2</th>\n",
       "      <td>recreational golfer knowledge sport history pl...</td>\n",
       "      <td>1</td>\n",
       "    </tr>\n",
       "    <tr>\n",
       "      <th>3</th>\n",
       "      <td>saw sneak preview delightful cinematography un...</td>\n",
       "      <td>1</td>\n",
       "    </tr>\n",
       "    <tr>\n",
       "      <th>4</th>\n",
       "      <td>ha take true golf open make much extraordinary...</td>\n",
       "      <td>1</td>\n",
       "    </tr>\n",
       "    <tr>\n",
       "      <th>...</th>\n",
       "      <td>...</td>\n",
       "      <td>...</td>\n",
       "    </tr>\n",
       "    <tr>\n",
       "      <th>24995</th>\n",
       "      <td>occasionally let watch garbage understand path...</td>\n",
       "      <td>0</td>\n",
       "    </tr>\n",
       "    <tr>\n",
       "      <th>24996</th>\n",
       "      <td>anymore pretty much reality tv make whatever r...</td>\n",
       "      <td>0</td>\n",
       "    </tr>\n",
       "    <tr>\n",
       "      <th>24997</th>\n",
       "      <td>basic genre thriller intercut uncomfortable me...</td>\n",
       "      <td>0</td>\n",
       "    </tr>\n",
       "    <tr>\n",
       "      <th>24998</th>\n",
       "      <td>four intrigue firstly star fame always pleasur...</td>\n",
       "      <td>0</td>\n",
       "    </tr>\n",
       "    <tr>\n",
       "      <th>24999</th>\n",
       "      <td>nearby exceptionally well write informative al...</td>\n",
       "      <td>0</td>\n",
       "    </tr>\n",
       "  </tbody>\n",
       "</table>\n",
       "<p>25000 rows × 2 columns</p>\n",
       "</div>"
      ],
      "text/plain": [
       "                                                  review  sentiment\n",
       "0      go saw last night coax mine admit reluctant se...          1\n",
       "1      actor turn director follows promising debut fa...          1\n",
       "2      recreational golfer knowledge sport history pl...          1\n",
       "3      saw sneak preview delightful cinematography un...          1\n",
       "4      ha take true golf open make much extraordinary...          1\n",
       "...                                                  ...        ...\n",
       "24995  occasionally let watch garbage understand path...          0\n",
       "24996  anymore pretty much reality tv make whatever r...          0\n",
       "24997  basic genre thriller intercut uncomfortable me...          0\n",
       "24998  four intrigue firstly star fame always pleasur...          0\n",
       "24999  nearby exceptionally well write informative al...          0\n",
       "\n",
       "[25000 rows x 2 columns]"
      ]
     },
     "execution_count": 60,
     "metadata": {},
     "output_type": "execute_result"
    }
   ],
   "source": [
    "df_test_prepro = preprocess(df_test)\n",
    "df_test_prepro"
   ]
  },
  {
   "attachments": {},
   "cell_type": "markdown",
   "metadata": {},
   "source": [
    "### Ecriture dans un fichier."
   ]
  },
  {
   "cell_type": "code",
   "execution_count": 61,
   "metadata": {},
   "outputs": [],
   "source": [
    "df_test_prepro.to_csv(f\"{OUT_CSV}df_test_prepro.csv\", index=False)"
   ]
  },
  {
   "attachments": {},
   "cell_type": "markdown",
   "metadata": {},
   "source": [
    "## Suppression des mots communs."
   ]
  },
  {
   "cell_type": "code",
   "execution_count": 62,
   "metadata": {},
   "outputs": [],
   "source": [
    "df_train_prepro2 = pd.read_csv(f\"{OUT_CSV}df_train_prepro.csv\")\n",
    "df_test_prepro2 = pd.read_csv(f\"{OUT_CSV}df_test_prepro.csv\")"
   ]
  },
  {
   "attachments": {},
   "cell_type": "markdown",
   "metadata": {},
   "source": [
    "### *Trainset*."
   ]
  },
  {
   "cell_type": "code",
   "execution_count": 63,
   "metadata": {},
   "outputs": [
    {
     "name": "stdout",
     "output_type": "stream",
     "text": [
      "0 words removed !\n"
     ]
    }
   ],
   "source": [
    "df_train_prepro2 = remove_common_word(df_train_prepro2)"
   ]
  },
  {
   "cell_type": "code",
   "execution_count": 64,
   "metadata": {},
   "outputs": [],
   "source": [
    "df_train_prepro2.to_csv(f\"{OUT_CSV}df_train_prepro2.csv\", index=False)"
   ]
  },
  {
   "attachments": {},
   "cell_type": "markdown",
   "metadata": {},
   "source": [
    "### *Testset*."
   ]
  },
  {
   "cell_type": "code",
   "execution_count": 65,
   "metadata": {},
   "outputs": [
    {
     "name": "stdout",
     "output_type": "stream",
     "text": [
      "0 words removed !\n"
     ]
    }
   ],
   "source": [
    "df_test_prepro2 = remove_common_word(df_test_prepro2)"
   ]
  },
  {
   "cell_type": "code",
   "execution_count": 66,
   "metadata": {},
   "outputs": [],
   "source": [
    "df_test_prepro2.to_csv(f\"{OUT_CSV}df_test_prepro2.csv\", index=False)"
   ]
  },
  {
   "attachments": {},
   "cell_type": "markdown",
   "metadata": {},
   "source": [
    "# Classification."
   ]
  },
  {
   "cell_type": "code",
   "execution_count": 27,
   "metadata": {},
   "outputs": [],
   "source": [
    "df_train_classify = pd.read_csv(f\"{OUT_CSV}df_train_prepro2.csv\")\n",
    "df_test_classify = pd.read_csv(f\"{OUT_CSV}df_test_prepro2.csv\")"
   ]
  },
  {
   "cell_type": "code",
   "execution_count": 50,
   "metadata": {},
   "outputs": [],
   "source": [
    "classifiers = {\n",
    "    \"LogisticRegression\": LogisticRegression(), # 87%\n",
    "    \"MultinomialNB\": MultinomialNB(), # 85%\n",
    "    \"ComplementNB\": ComplementNB(), # 85%\n",
    "    \"BernoulliNB\": BernoulliNB(), # 84%\n",
    "    # \"RandomForestClassifier\": RandomForestClassifier(), # 83%\n",
    "    # \"AdaBoostClassifier\": AdaBoostClassifier(), # 80%\n",
    "    # \"KNeighborsClassifier\": KNeighborsClassifier(), # 71%\n",
    "    # \"DecisionTreeClassifier\": DecisionTreeClassifier(), # 70%\n",
    "}"
   ]
  },
  {
   "attachments": {},
   "cell_type": "markdown",
   "metadata": {},
   "source": [
    "## Découpage en X et y."
   ]
  },
  {
   "cell_type": "code",
   "execution_count": 51,
   "metadata": {},
   "outputs": [],
   "source": [
    "X_train, y_train = df_train_classify[\"review\"].values, df_train_classify[\"sentiment\"].values\n",
    "X_test, y_test = df_test_classify[\"review\"].values, df_test_classify[\"sentiment\"].values"
   ]
  },
  {
   "attachments": {},
   "cell_type": "markdown",
   "metadata": {},
   "source": [
    "## Entrainement."
   ]
  },
  {
   "cell_type": "code",
   "execution_count": 52,
   "metadata": {},
   "outputs": [
    {
     "name": "stdout",
     "output_type": "stream",
     "text": [
      "LogisticRegression\n",
      "fitting...Done\n",
      "predicting labels...Done\n",
      "\n",
      "MultinomialNB\n",
      "fitting...Done\n",
      "predicting labels...Done\n",
      "\n",
      "ComplementNB\n",
      "fitting...Done\n",
      "predicting labels...Done\n",
      "\n",
      "BernoulliNB\n",
      "fitting...Done\n",
      "predicting labels...Done\n",
      "\n"
     ]
    }
   ],
   "source": [
    "liste_predictions = entrainement(classifiers, X_train, X_test, y_test, y_test)"
   ]
  },
  {
   "attachments": {},
   "cell_type": "markdown",
   "metadata": {},
   "source": [
    "## Evaluation."
   ]
  },
  {
   "cell_type": "code",
   "execution_count": 53,
   "metadata": {},
   "outputs": [
    {
     "name": "stdout",
     "output_type": "stream",
     "text": [
      "LogisticRegression\n",
      "              precision    recall  f1-score   support\n",
      "\n",
      "           0       0.87      0.86      0.87     12500\n",
      "           1       0.86      0.88      0.87     12500\n",
      "\n",
      "    accuracy                           0.87     25000\n",
      "   macro avg       0.87      0.87      0.87     25000\n",
      "weighted avg       0.87      0.87      0.87     25000\n",
      "\n"
     ]
    },
    {
     "data": {
      "image/png": "[encoded data removed]",
      "text/plain": [
       "<Figure size 400x300 with 2 Axes>"
      ]
     },
     "metadata": {},
     "output_type": "display_data"
    },
    {
     "name": "stdout",
     "output_type": "stream",
     "text": [
      "MultinomialNB\n",
      "              precision    recall  f1-score   support\n",
      "\n",
      "           0       0.85      0.84      0.84     12500\n",
      "           1       0.84      0.85      0.85     12500\n",
      "\n",
      "    accuracy                           0.85     25000\n",
      "   macro avg       0.85      0.85      0.85     25000\n",
      "weighted avg       0.85      0.85      0.85     25000\n",
      "\n"
     ]
    },
    {
     "data": {
      "image/png": "[encoded data removed]",
      "text/plain": [
       "<Figure size 400x300 with 2 Axes>"
      ]
     },
     "metadata": {},
     "output_type": "display_data"
    },
    {
     "name": "stdout",
     "output_type": "stream",
     "text": [
      "ComplementNB\n",
      "              precision    recall  f1-score   support\n",
      "\n",
      "           0       0.85      0.84      0.84     12500\n",
      "           1       0.84      0.85      0.85     12500\n",
      "\n",
      "    accuracy                           0.85     25000\n",
      "   macro avg       0.85      0.85      0.85     25000\n",
      "weighted avg       0.85      0.85      0.85     25000\n",
      "\n"
     ]
    },
    {
     "data": {
      "image/png": "[encoded data removed]",
      "text/plain": [
       "<Figure size 400x300 with 2 Axes>"
      ]
     },
     "metadata": {},
     "output_type": "display_data"
    },
    {
     "name": "stdout",
     "output_type": "stream",
     "text": [
      "BernoulliNB\n",
      "              precision    recall  f1-score   support\n",
      "\n",
      "           0       0.85      0.83      0.84     12500\n",
      "           1       0.83      0.86      0.84     12500\n",
      "\n",
      "    accuracy                           0.84     25000\n",
      "   macro avg       0.84      0.84      0.84     25000\n",
      "weighted avg       0.84      0.84      0.84     25000\n",
      "\n"
     ]
    },
    {
     "data": {
      "image/png": "[encoded data removed]",
      "text/plain": [
       "<Figure size 400x300 with 2 Axes>"
      ]
     },
     "metadata": {},
     "output_type": "display_data"
    }
   ],
   "source": [
    "evaluation(liste_predictions, df_test_classify, \"sentiment\", X_train, X_test, y_train, y_test)"
   ]
  }
 ],
 "metadata": {
  "kernelspec": {
   "display_name": "base",
   "language": "python",
   "name": "python3"
  },
  "language_info": {
   "codemirror_mode": {
    "name": "ipython",
    "version": 3
   },
   "file_extension": ".py",
   "mimetype": "text/x-python",
   "name": "python",
   "nbconvert_exporter": "python",
   "pygments_lexer": "ipython3",
   "version": "3.9.13"
  },
  "orig_nbformat": 4,
  "vscode": {
   "interpreter": {
    "hash": "f54c43c78a7239850f68dcdf5e10933261189269a0a228285fdc32d82cd4329e"
   }
  }
 },
 "nbformat": 4,
 "nbformat_minor": 2
}
